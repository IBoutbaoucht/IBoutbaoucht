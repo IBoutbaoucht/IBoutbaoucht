{
  "nbformat": 4,
  "nbformat_minor": 0,
  "metadata": {
    "colab": {
      "provenance": [],
      "include_colab_link": true
    },
    "kernelspec": {
      "name": "python3",
      "display_name": "Python 3"
    },
    "language_info": {
      "name": "python"
    }
  },
  "cells": [
    {
      "cell_type": "markdown",
      "metadata": {
        "id": "view-in-github",
        "colab_type": "text"
      },
      "source": [
        "<a href=\"https://colab.research.google.com/github/IBoutbaoucht/IBoutbaoucht/blob/main/SQL_lab_3.ipynb\" target=\"_parent\"><img src=\"https://colab.research.google.com/assets/colab-badge.svg\" alt=\"Open In Colab\"/></a>"
      ]
    },
    {
      "cell_type": "markdown",
      "source": [
        "# Lab 3"
      ],
      "metadata": {
        "id": "YQPI3T-foNKW"
      }
    },
    {
      "cell_type": "code",
      "execution_count": 1,
      "metadata": {
        "id": "Y-shsWdpoG7u"
      },
      "outputs": [],
      "source": [
        "import sqlite3\n"
      ]
    },
    {
      "cell_type": "markdown",
      "source": [
        "# Init db"
      ],
      "metadata": {
        "id": "mDKy2vh9rgiW"
      }
    },
    {
      "cell_type": "code",
      "source": [
        "# connect to db\n",
        "conn = sqlite3.connect('lab_3.db')\n",
        "cursor = conn.cursor()"
      ],
      "metadata": {
        "id": "bb_QU4fqoQou"
      },
      "execution_count": 2,
      "outputs": []
    },
    {
      "cell_type": "markdown",
      "source": [
        "# Create tables"
      ],
      "metadata": {
        "id": "00OEVT49riMx"
      }
    },
    {
      "cell_type": "code",
      "source": [
        "# create tables\n",
        "cursor.execute('''\n",
        "CREATE TABLE IF NOT EXISTS Professors (\n",
        "    prof_ssn CHAR(10) PRIMARY KEY,\n",
        "    name CHAR(64),\n",
        "    age INTEGER,\n",
        "    rank INTEGER,\n",
        "    speciality CHAR(64)\n",
        ");''')\n",
        "\n",
        "\n",
        "cursor.execute('''\n",
        "CREATE TABLE IF NOT EXISTS Depts (\n",
        "    dno INTEGER PRIMARY KEY,\n",
        "    dname CHAR(64),\n",
        "    office CHAR(10)\n",
        ");''')\n",
        "\n",
        "\n",
        "cursor.execute('''\n",
        "CREATE TABLE IF NOT EXISTS Runs (\n",
        "    dno INTEGER,\n",
        "    prof_ssn CHAR(10),\n",
        "    PRIMARY KEY (dno, prof_ssn),\n",
        "    FOREIGN KEY (prof_ssn) REFERENCES Professors,\n",
        "    FOREIGN KEY (dno) REFERENCES Depts\n",
        ");''')\n",
        "\n",
        "\n",
        "cursor.execute('''\n",
        "CREATE TABLE IF NOT EXISTS Work_Dept (\n",
        "    dno INTEGER,\n",
        "    prof_ssn CHAR(10),\n",
        "    pc_time INTEGER,\n",
        "    PRIMARY KEY (dno, prof_ssn),\n",
        "    FOREIGN KEY (prof_ssn) REFERENCES Professors,\n",
        "    FOREIGN KEY (dno) REFERENCES Depts\n",
        ");''')\n",
        "\n",
        "\n",
        "cursor.execute('''\n",
        "CREATE TABLE IF NOT EXISTS Projects (\n",
        "    pid INTEGER PRIMARY KEY,\n",
        "    sponsor CHAR(32),\n",
        "    start_date DATE,\n",
        "    end_date DATE,\n",
        "    budget FLOAT\n",
        ");''')\n",
        "\n",
        "\n",
        "cursor.execute('''\n",
        "CREATE TABLE IF NOT EXISTS Graduates (\n",
        "    grad_ssn CHAR(10) PRIMARY KEY,\n",
        "    age INTEGER,\n",
        "    name CHAR(64),\n",
        "    deg_prog CHAR(32),\n",
        "    major INTEGER,\n",
        "    FOREIGN KEY (major) REFERENCES Depts\n",
        ");''')\n",
        "\n",
        "\n",
        "cursor.execute('''\n",
        "CREATE TABLE IF NOT EXISTS Advisor (\n",
        "    senior_ssn CHAR(10),\n",
        "    grad_ssn CHAR(10),\n",
        "    PRIMARY KEY (senior_ssn, grad_ssn),\n",
        "    FOREIGN KEY (senior_ssn) REFERENCES Graduates(grad_ssn),\n",
        "    FOREIGN KEY (grad_ssn) REFERENCES Graduates\n",
        ");''')\n",
        "\n",
        "\n",
        "cursor.execute('''\n",
        "CREATE TABLE IF NOT EXISTS Manages (\n",
        "    pid INTEGER,\n",
        "    prof_ssn CHAR(10),\n",
        "    PRIMARY KEY (pid, prof_ssn),\n",
        "    FOREIGN KEY (prof_ssn) REFERENCES Professors,\n",
        "    FOREIGN KEY (pid) REFERENCES Projects\n",
        ");''')\n",
        "\n",
        "cursor.execute('''\n",
        "CREATE TABLE IF NOT EXISTS Work_In (\n",
        "    pid INTEGER,\n",
        "    prof_ssn CHAR(10),\n",
        "    PRIMARY KEY (pid, prof_ssn),\n",
        "    FOREIGN KEY (prof_ssn) REFERENCES Professors,\n",
        "    FOREIGN KEY (pid) REFERENCES Projects\n",
        ");''')\n",
        "\n",
        "\n",
        "cursor.execute('''\n",
        "CREATE TABLE IF NOT EXISTS Supervises (\n",
        "    prof_ssn CHAR(10),\n",
        "    grad_ssn CHAR(10),\n",
        "    pid INTEGER,\n",
        "    PRIMARY KEY (prof_ssn, grad_ssn, pid),\n",
        "    FOREIGN KEY (prof_ssn) REFERENCES Professors,\n",
        "    FOREIGN KEY (grad_ssn) REFERENCES Graduates,\n",
        "    FOREIGN KEY (pid) REFERENCES Projects\n",
        ");''')\n"
      ],
      "metadata": {
        "id": "Oal0Ho6OoXsb",
        "colab": {
          "base_uri": "https://localhost:8080/"
        },
        "outputId": "5ad54cbe-1974-4d43-9a28-1b3e00ac14d2"
      },
      "execution_count": 3,
      "outputs": [
        {
          "output_type": "execute_result",
          "data": {
            "text/plain": [
              "<sqlite3.Cursor at 0x7e2d649d37c0>"
            ]
          },
          "metadata": {},
          "execution_count": 3
        }
      ]
    },
    {
      "cell_type": "markdown",
      "source": [
        "# Add data"
      ],
      "metadata": {
        "id": "oFGYQ7dErnea"
      }
    },
    {
      "cell_type": "code",
      "source": [
        "# add data\n",
        "professors = [\n",
        "    ('P1', 'Prof. Smith', 55, 1, 'AI'),\n",
        "    ('P2', 'Prof. Johnson', 45, 2, 'DBMS'),\n",
        "    ('P3', 'Prof. Lee', 50, 1, 'Networking'),\n",
        "    ('P4', 'Prof. Kim', 40, 3, 'Cybersecurity')\n",
        "]\n",
        "cursor.executemany('INSERT OR IGNORE INTO Professors VALUES (?, ?, ?, ?, ?)', professors)\n",
        "\n",
        "depts = [\n",
        "    (1, 'Computer Science', 'A101'),\n",
        "    (2, 'Mathematics', 'B201'),\n",
        "    (3, 'Physics', 'C301')\n",
        "]\n",
        "cursor.executemany('INSERT OR IGNORE INTO Depts VALUES (?, ?, ?)', depts)\n",
        "\n",
        "\n",
        "runs = [\n",
        "    (1, 'P1'),\n",
        "    (2, 'P2'),\n",
        "    (3, 'P3')\n",
        "]\n",
        "cursor.executemany('INSERT OR IGNORE INTO Runs VALUES (?, ?)', runs)\n",
        "\n",
        "\n",
        "work_dept = [\n",
        "    (1, 'P1', 30),\n",
        "    (2, 'P2', 20),\n",
        "    (3, 'P3', 25)\n",
        "]\n",
        "cursor.executemany('INSERT OR IGNORE INTO Work_Dept VALUES (?, ?, ?)', work_dept)\n",
        "\n",
        "\n",
        "projects = [\n",
        "    (101, 'NSF', '2023-01-01', '2023-12-31', 50000),\n",
        "    (102, 'Google', '2022-06-01', '2024-05-31', 100000),\n",
        "    (103, 'Microsoft', '2023-03-01', '2023-11-30', 75000)\n",
        "]\n",
        "cursor.executemany('INSERT OR IGNORE INTO Projects VALUES (?, ?, ?, ?, ?)', projects)\n",
        "\n",
        "\n",
        "graduates = [\n",
        "    ('G1', 24, 'Alice', 'M.Sc', 1),\n",
        "    ('G2', 26, 'Bob', 'Ph.D', 2),\n",
        "    ('G3', 23, 'Charlie', 'B.Sc', 3)\n",
        "]\n",
        "cursor.executemany('INSERT OR IGNORE INTO Graduates VALUES (?, ?, ?, ?, ?)', graduates)\n",
        "\n",
        "\n",
        "advisors = [\n",
        "    ('G2', 'G1'),\n",
        "    ('G3', 'G2'),\n",
        "    ('G3', 'G1')\n",
        "]\n",
        "cursor.executemany('INSERT OR IGNORE INTO Advisor VALUES (?, ?)', advisors)\n",
        "\n",
        "\n",
        "manages = [\n",
        "    (101, 'P1'),\n",
        "    (102, 'P2'),\n",
        "    (103, 'P3')\n",
        "]\n",
        "cursor.executemany('INSERT OR IGNORE INTO Manages VALUES (?, ?)', manages)\n",
        "\n",
        "\n",
        "work_in = [\n",
        "    (101, 'P1'),\n",
        "    (102, 'P2'),\n",
        "    (103, 'P3')\n",
        "]\n",
        "cursor.executemany('INSERT OR IGNORE INTO Work_In VALUES (?, ?)', work_in)\n",
        "\n",
        "\n",
        "supervises = [\n",
        "    ('P1', 'G1', 101),\n",
        "    ('P2', 'G2', 102),\n",
        "    ('P3', 'G3', 103)\n",
        "]\n",
        "cursor.executemany('INSERT OR IGNORE INTO Supervises VALUES (?, ?, ?)', supervises)\n",
        "\n",
        "conn.commit()\n"
      ],
      "metadata": {
        "id": "-c4ulu7cojdH"
      },
      "execution_count": 17,
      "outputs": []
    },
    {
      "cell_type": "markdown",
      "source": [
        "**Section 2: Joins**\n",
        "#### **Examples**\n",
        "1. Retrieve all professors and their departments.\n",
        "   ```sql\n",
        "   SELECT p.name AS Professor, d.dname AS Department\n",
        "   FROM Professors p\n",
        "   JOIN Runs r ON p.prof_ssn = r.prof_ssn\n",
        "   JOIN Depts d ON r.dno = d.dno;\n",
        "   ```\n",
        "2. Find the graduates and their advisors.\n",
        "   ```sql\n",
        "   SELECT g.name AS Graduate, g2.name AS Advisor\n",
        "   FROM Graduates g\n",
        "   JOIN Advisor a ON g.grad_ssn = a.grad_ssn\n",
        "   JOIN Graduates g2 ON a.senior_ssn = g2.grad_ssn;\n",
        "    ```\n",
        "#### Questions:\n",
        "3. List the names of all professors and their associated projects.\n",
        "4. List all graduates along with their advisors and the department they are majoring in.\n",
        "5. Retrieve professors who manage at least one project and the project details."
      ],
      "metadata": {
        "id": "jFla4cw8pUTA"
      }
    },
    {
      "cell_type": "code",
      "source": [
        "# q3\n",
        "results = cursor.execute(\"\"\"\n",
        "SELECT p.name AS Professors , manages.pid AS Projects\n",
        "FROM Professors p\n",
        "JOIN Manages manages ON p.prof_ssn = manages.prof_ssn ;\n",
        "\n",
        "\"\"\")\n",
        "print(results.fetchall())"
      ],
      "metadata": {
        "id": "LFIQ2-bwrZ1Q",
        "colab": {
          "base_uri": "https://localhost:8080/"
        },
        "outputId": "557e96b8-aa6b-4bbb-83a3-aa6e482780bd"
      },
      "execution_count": 5,
      "outputs": [
        {
          "output_type": "stream",
          "name": "stdout",
          "text": [
            "[('Prof. Smith', 101), ('Prof. Johnson', 102), ('Prof. Lee', 103)]\n"
          ]
        }
      ]
    },
    {
      "cell_type": "code",
      "source": [
        "# q4\n",
        "results = cursor.execute(\"\"\"\n",
        "SELECT Graduates.name , Advisors.name , Graduates.major\n",
        "FROM Graduates\n",
        "JOIN Advisor ON Advisor.grad_ssn = Graduates.grad_ssn\n",
        "JOIN Graduates Advisors ON Advisors.grad_ssn = Advisor.senior_ssn ;\n",
        "\n",
        "\"\"\")\n",
        "print(results.fetchall())"
      ],
      "metadata": {
        "id": "GnNXES0Jradq",
        "colab": {
          "base_uri": "https://localhost:8080/"
        },
        "outputId": "37ff866a-e146-4bbc-b2e3-40acb696c144"
      },
      "execution_count": 7,
      "outputs": [
        {
          "output_type": "stream",
          "name": "stdout",
          "text": [
            "[('Alice', 'Bob', 1), ('Bob', 'Charlie', 2)]\n"
          ]
        }
      ]
    },
    {
      "cell_type": "code",
      "source": [
        "# q5\n",
        "results = cursor.execute(\"\"\"\n",
        "SELECT Professors.name  , Projects.sponsor , Projects.budget\n",
        "FROM Professors\n",
        "JOIN Manages ON Manages.prof_ssn = Professors.prof_ssn\n",
        "JOIN Projects ON Projects.pid = Manages.pid ;\n",
        "\n",
        "\"\"\")\n",
        "print(results.fetchall())"
      ],
      "metadata": {
        "id": "HAZ_q9D6rbGc",
        "colab": {
          "base_uri": "https://localhost:8080/"
        },
        "outputId": "27cb758d-6f53-4d5e-c742-a71f31a3b563"
      },
      "execution_count": 10,
      "outputs": [
        {
          "output_type": "stream",
          "name": "stdout",
          "text": [
            "[('Prof. Smith', 'NSF', 50000.0), ('Prof. Johnson', 'Google', 100000.0), ('Prof. Lee', 'Microsoft', 75000.0)]\n"
          ]
        }
      ]
    },
    {
      "cell_type": "markdown",
      "source": [
        "\n",
        "\n",
        "### **Section 2: Nested Queries**\n",
        "\n",
        "#### **Examples**\n",
        "1. Find the names of professors who manage projects with budgets greater than $70,000.\n",
        "   ```sql\n",
        "   SELECT name\n",
        "   FROM Professors\n",
        "   WHERE prof_ssn IN (\n",
        "       SELECT prof_ssn\n",
        "       FROM Manages\n",
        "       WHERE pid IN (\n",
        "           SELECT pid\n",
        "           FROM Projects\n",
        "           WHERE budget > 70000\n",
        "       )\n",
        "   );\n",
        "   ```\n",
        "\n",
        "2. Retrieve graduates who have the same major as Prof. Smith's department.\n",
        "   ```sql\n",
        "   SELECT name\n",
        "   FROM Graduates\n",
        "   WHERE major = (\n",
        "       SELECT dno\n",
        "       FROM Runs\n",
        "       WHERE prof_ssn = 'P1'\n",
        "   );\n",
        "   ```\n",
        "\n",
        "#### **Questions**\n",
        "3. Find graduates whose advisor is supervising atleast two students.\n",
        "4. Retrieve the name of the professor who manages the project with the highest budget.\n",
        "5. List all graduates who are majoring in the same department as their advisors.\n"
      ],
      "metadata": {
        "id": "NMYB76Gqpxsi"
      }
    },
    {
      "cell_type": "code",
      "source": [
        "# q3\n",
        "results = cursor.execute(\"\"\"\n",
        "  SELECT Graduates.name\n",
        "  FROM Graduates\n",
        "  JOIN Advisor ON Advisor.grad_ssn = Graduates.grad_ssn\n",
        "  WHERE Advisor.senior_ssn IN (\n",
        "    SELECT senior_ssn\n",
        "    FROM (\n",
        "      SELECT senior_ssn , COUNT(*) AS Supervised\n",
        "      FROM Advisor\n",
        "      GROUP BY senior_ssn\n",
        "      HAVING Supervised >= 2\n",
        "    )\n",
        "  ) ;\n",
        "\n",
        "\"\"\")\n",
        "print(results.fetchall())"
      ],
      "metadata": {
        "id": "ob4I-v2kqscD",
        "colab": {
          "base_uri": "https://localhost:8080/"
        },
        "outputId": "243da16c-c311-40f6-8620-cded6d9ae57d"
      },
      "execution_count": 18,
      "outputs": [
        {
          "output_type": "stream",
          "name": "stdout",
          "text": [
            "[('Alice',), ('Bob',)]\n"
          ]
        }
      ]
    },
    {
      "cell_type": "code",
      "source": [
        "# q4\n",
        "results = cursor.execute(\"\"\"\n",
        "SELECT name\n",
        "FROM Professors\n",
        "WHERE Professors.prof_ssn IN (\n",
        "  SELECT Professors.prof_ssn\n",
        "  FROM Professors\n",
        "  JOIN Manages ON Professors.prof_ssn = Manages.prof_ssn\n",
        "  JOIN Projects ON Projects.pid = Manages.pid\n",
        "  WHERE Projects.budget = (\n",
        "    SELECT MAX(Projects.budget)\n",
        "    From Projects\n",
        "  )\n",
        ") ;\n",
        "\n",
        "\n",
        "\"\"\")\n",
        "print(results.fetchall())"
      ],
      "metadata": {
        "id": "XhQFjZJXqsFq",
        "colab": {
          "base_uri": "https://localhost:8080/"
        },
        "outputId": "a8c8b890-1ab2-4452-ea2f-251a4c954d7a"
      },
      "execution_count": 20,
      "outputs": [
        {
          "output_type": "stream",
          "name": "stdout",
          "text": [
            "[('Prof. Johnson',)]\n"
          ]
        }
      ]
    },
    {
      "cell_type": "code",
      "source": [
        "# q5\n",
        "results = cursor.execute(\"\"\"\n",
        "\n",
        "\n",
        "\"\"\")\n",
        "print(results.fetchall()"
      ],
      "metadata": {
        "id": "YN_LD3GDrTic"
      },
      "execution_count": null,
      "outputs": []
    },
    {
      "cell_type": "markdown",
      "source": [
        "### **Section 3: Triggers**\n",
        "\n",
        "#### **Examples**\n",
        "1. Prevent insertion of a graduate younger than 21.\n",
        "   ```sql\n",
        "   CREATE TRIGGER prevent_young_grads\n",
        "   BEFORE INSERT ON Graduates\n",
        "   FOR EACH ROW\n",
        "   BEGIN\n",
        "       SELECT CASE\n",
        "           WHEN NEW.age < 21 THEN\n",
        "               RAISE(ABORT, 'Graduate must be at least 21 years old')\n",
        "       END;\n",
        "   END;\n",
        "   ```\n",
        "\n",
        "2. Automatically assign a professor to a department if they are added without one.\n",
        "   ```sql\n",
        "   CREATE TRIGGER assign_default_dept\n",
        "   AFTER INSERT ON Professors\n",
        "   FOR EACH ROW\n",
        "   WHEN NOT EXISTS (SELECT * FROM Runs WHERE prof_ssn = NEW.prof_ssn)\n",
        "   BEGIN\n",
        "       INSERT INTO Runs (dno, prof_ssn) VALUES (1, NEW.prof_ssn);\n",
        "   END;\n",
        "   ```\n",
        "\n",
        "#### **Questions**\n",
        "3. Write a trigger to ensure that projects with a budget over $100,000 cannot be added.\n",
        "4. Create a trigger to ensure that when a project is deleted, all corresponding entries in Manages and Work_In are also deleted.\n",
        "5. Create a trigger to automatically assign a default advisor to a graduate if none is provided."
      ],
      "metadata": {
        "id": "7T3QoItxqeJP"
      }
    },
    {
      "cell_type": "code",
      "source": [
        "# q3\n",
        "results = cursor.execute(\"\"\"\n",
        "\n",
        "\n",
        "\"\"\")\n",
        "print(results.fetchall()"
      ],
      "metadata": {
        "id": "4dlgUmYNp2OD"
      },
      "execution_count": null,
      "outputs": []
    },
    {
      "cell_type": "code",
      "source": [
        "# q4\n",
        "results = cursor.execute(\"\"\"\n",
        "\n",
        "\n",
        "\"\"\")\n",
        "print(results.fetchall()"
      ],
      "metadata": {
        "id": "BaGAcOizrXKz"
      },
      "execution_count": null,
      "outputs": []
    },
    {
      "cell_type": "code",
      "source": [
        "# q5\n",
        "results = cursor.execute(\"\"\"\n",
        "\n",
        "\n",
        "\"\"\")\n",
        "print(results.fetchall()"
      ],
      "metadata": {
        "id": "ztLp5JpIrXpt"
      },
      "execution_count": null,
      "outputs": []
    }
  ]
}