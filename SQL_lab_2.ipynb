{
  "nbformat": 4,
  "nbformat_minor": 0,
  "metadata": {
    "colab": {
      "provenance": [],
      "include_colab_link": true
    },
    "kernelspec": {
      "name": "python3",
      "display_name": "Python 3"
    },
    "language_info": {
      "name": "python"
    }
  },
  "cells": [
    {
      "cell_type": "markdown",
      "metadata": {
        "id": "view-in-github",
        "colab_type": "text"
      },
      "source": [
        "<a href=\"https://colab.research.google.com/github/IBoutbaoucht/IBoutbaoucht/blob/main/SQL_lab_2.ipynb\" target=\"_parent\"><img src=\"https://colab.research.google.com/assets/colab-badge.svg\" alt=\"Open In Colab\"/></a>"
      ]
    },
    {
      "cell_type": "markdown",
      "source": [
        "# SQL with Python\n",
        "This lab introduces SQL using Python and SQLite, a lightweight database system. You will learn how to:\n",
        "- Connect to an SQLite database.\n",
        "- Create tables and insert data.\n",
        "- Perform batch data insertion.\n",
        "- Query the database.\n",
        "\n",
        "SQLite is ideal for learning as it requires no additional setup and comes pre-installed with Python.\n"
      ],
      "metadata": {
        "id": "PzoyeF-C9uPV"
      }
    },
    {
      "cell_type": "markdown",
      "source": [
        "## Install and Import Dependencies\n",
        "SQLite is included with Python, so no additional installation is required. However, we'll use pandas for CSV manipulation.\n"
      ],
      "metadata": {
        "id": "yQZfRi6A91eD"
      }
    },
    {
      "cell_type": "code",
      "execution_count": null,
      "metadata": {
        "id": "nfOQm4uL9gc0"
      },
      "outputs": [],
      "source": [
        "import sqlite3\n",
        "import pandas as pd\n",
        "import os\n"
      ]
    },
    {
      "cell_type": "markdown",
      "source": [
        "## Connect to SQLite Database\n",
        "We'll create or connect to an SQLite database file named `lab_2.db`. If the file doesn't exist, SQLite will create it.\n"
      ],
      "metadata": {
        "id": "N7JTiuQo94YJ"
      }
    },
    {
      "cell_type": "code",
      "source": [
        "# remove existing db\n",
        "if \"lab_2.db\" in os.listdir():\n",
        "  os.remove(\"lab_2.db\")\n",
        "\n",
        "# Connect to SQLite database\n",
        "connection = sqlite3.connect(\"lab_2.db\")\n",
        "\n",
        "# Create a cursor object to execute SQL commands\n",
        "cursor = connection.cursor()\n",
        "\n",
        "print(\"Database connection established.\")\n"
      ],
      "metadata": {
        "id": "MCME1KuZ954t",
        "colab": {
          "base_uri": "https://localhost:8080/"
        },
        "outputId": "98c6876a-4739-41ca-8e21-4cc3cb61736f"
      },
      "execution_count": null,
      "outputs": [
        {
          "output_type": "stream",
          "name": "stdout",
          "text": [
            "Database connection established.\n"
          ]
        }
      ]
    },
    {
      "cell_type": "markdown",
      "source": [
        "## Creating a Table\n",
        "We'll create a table called `Students` with the following schema:\n",
        "- `ID`: INTEGER, Primary Key\n",
        "- `Name`: TEXT\n",
        "- `Age`: INTEGER\n",
        "- `Grade`: TEXT\n"
      ],
      "metadata": {
        "id": "ntieE3OU-Dof"
      }
    },
    {
      "cell_type": "code",
      "source": [
        "# Create a table\n",
        "create_table_query = '''\n",
        "CREATE TABLE IF NOT EXISTS Students (\n",
        "    ID INTEGER PRIMARY KEY,\n",
        "    Name TEXT,\n",
        "    Age INTEGER,\n",
        "    Grade TEXT\n",
        ");\n",
        "'''\n",
        "cursor.execute(create_table_query)\n",
        "connection.commit()\n",
        "\n",
        "print(\"Table 'Students' created successfully.\")\n"
      ],
      "metadata": {
        "id": "ejSNOzxd-Eyu",
        "colab": {
          "base_uri": "https://localhost:8080/"
        },
        "outputId": "69b3126d-93c2-49fa-9aff-c7d5465795b5"
      },
      "execution_count": null,
      "outputs": [
        {
          "output_type": "stream",
          "name": "stdout",
          "text": [
            "Table 'Students' created successfully.\n"
          ]
        }
      ]
    },
    {
      "cell_type": "markdown",
      "source": [
        "## Inserting Data\n",
        "Insert a few records into the `Students` table.\n"
      ],
      "metadata": {
        "id": "IGFV_Bmz-Kaj"
      }
    },
    {
      "cell_type": "code",
      "source": [
        "\n",
        "insert_query = '''\n",
        "INSERT INTO Students (Name, Age, Grade)\n",
        "VALUES (?, ?, ?);\n",
        "'''\n",
        "\n",
        "# data\n",
        "students_data = [\n",
        "    ('Alice', 20, 'A'),\n",
        "    ('Bob', 22, 'B'),\n",
        "    ('Charlie', 21, 'A'),\n",
        "]\n",
        "\n",
        "\n",
        "cursor.executemany(insert_query, students_data)\n",
        "connection.commit()\n",
        "\n",
        "print(\"Records inserted successfully.\")\n"
      ],
      "metadata": {
        "id": "OhClnK0L-L_k",
        "colab": {
          "base_uri": "https://localhost:8080/"
        },
        "outputId": "291fe3e7-d1ee-4092-caa7-c82b8de04bdb"
      },
      "execution_count": null,
      "outputs": [
        {
          "output_type": "stream",
          "name": "stdout",
          "text": [
            "Records inserted successfully.\n"
          ]
        }
      ]
    },
    {
      "cell_type": "markdown",
      "source": [
        "## Querying Data\n",
        "Use SQL SELECT queries to retrieve data from the `Students` table.\n"
      ],
      "metadata": {
        "id": "tK6aF6TG-Uyw"
      }
    },
    {
      "cell_type": "code",
      "source": [
        "# Retrieve data\n",
        "query = \"SELECT * FROM Students;\"\n",
        "cursor.execute(query)\n",
        "\n",
        "# Fetch and display results\n",
        "results = cursor.fetchall()\n",
        "for row in results:\n",
        "    print(row)\n"
      ],
      "metadata": {
        "id": "MaTfBWjW-VjH",
        "colab": {
          "base_uri": "https://localhost:8080/"
        },
        "outputId": "63c8a5e7-7466-479b-c572-31a99c6e648c"
      },
      "execution_count": null,
      "outputs": [
        {
          "output_type": "stream",
          "name": "stdout",
          "text": [
            "(1, 'Alice', 20, 'A')\n",
            "(2, 'Bob', 22, 'B')\n",
            "(3, 'Charlie', 21, 'A')\n"
          ]
        }
      ]
    },
    {
      "cell_type": "markdown",
      "source": [
        "## Batch Insertion\n",
        "We will load data into a new table named `Employees`.\n",
        "The should contain the following columns:\n",
        "- `ID` (INTEGER)\n",
        "- `Name` (TEXT)\n",
        "- `Position` (TEXT)\n",
        "- `Salary` (REAL)\n",
        "\n",
        "Let's create the `Employees` table and write data to table .\n"
      ],
      "metadata": {
        "id": "KY8J_vgL-YFp"
      }
    },
    {
      "cell_type": "code",
      "source": [
        "# Create Employees table\n",
        "create_employees_table = '''\n",
        "CREATE TABLE IF NOT EXISTS Employees (\n",
        "    ID INTEGER PRIMARY KEY,\n",
        "    Name TEXT,\n",
        "    Position TEXT,\n",
        "    Salary REAL\n",
        ");\n",
        "'''\n",
        "cursor.execute(create_employees_table)\n",
        "\n",
        "#data\n",
        "csv_data = [\n",
        "    (1, 'John Doe', 'Manager', 75000.0),\n",
        "    (2, 'Jane Smith', 'Developer', 65000.0),\n",
        "    (3, 'Emily Davis', 'Designer', 50000.0),\n",
        "]\n",
        "\n",
        "# Insert data into Employees table\n",
        "insert_employees_query = '''\n",
        "INSERT INTO Employees (ID, Name, Position, Salary)\n",
        "VALUES (?, ?, ?, ?);\n",
        "'''\n",
        "\n",
        "cursor.executemany(insert_employees_query, csv_data)\n",
        "connection.commit()\n",
        "\n",
        "print(\"Data loaded from CSV and inserted into 'Employees' table.\")\n"
      ],
      "metadata": {
        "id": "RYCyq9xv-aH3",
        "colab": {
          "base_uri": "https://localhost:8080/"
        },
        "outputId": "bf8888be-88fa-479e-d195-007dca3ac8db"
      },
      "execution_count": null,
      "outputs": [
        {
          "output_type": "stream",
          "name": "stdout",
          "text": [
            "Data loaded from CSV and inserted into 'Employees' table.\n"
          ]
        }
      ]
    },
    {
      "cell_type": "markdown",
      "source": [
        "## Query Examples\n",
        "Let's perform some queries:\n",
        "1. Retrieve all employees earning more than $60,000.\n",
        "2. Count the number of employees.\n"
      ],
      "metadata": {
        "id": "-AC6GtHB-o-Z"
      }
    },
    {
      "cell_type": "code",
      "source": [
        "# Query: Employees earning more than $60,000\n",
        "query_high_salary = \"SELECT * FROM Employees WHERE Salary > 60000;\"\n",
        "cursor.execute(query_high_salary)\n",
        "# we use fetch all when we have multiple rows as output\n",
        "high_salary_employees = cursor.fetchall()\n",
        "print(\"Employees earning more than $60,000:\")\n",
        "for emp in high_salary_employees:\n",
        "    print(emp)\n",
        "\n",
        "# Query: Count the number of employees\n",
        "query_count = \"SELECT COUNT(*) FROM Employees;\"\n",
        "cursor.execute(query_count)\n",
        "# we use fetch all when we have multiple rows as output\n",
        "employee_count = cursor.fetchone()[0]\n",
        "print(f\"Total number of employees: {employee_count}\")\n"
      ],
      "metadata": {
        "id": "B-TQPxLc-pzo",
        "colab": {
          "base_uri": "https://localhost:8080/"
        },
        "outputId": "4fefaac2-f8db-43aa-87cf-6e5ce4a2201f"
      },
      "execution_count": null,
      "outputs": [
        {
          "output_type": "stream",
          "name": "stdout",
          "text": [
            "Employees earning more than $60,000:\n",
            "(1, 'John Doe', 'Manager', 75000.0)\n",
            "(2, 'Jane Smith', 'Developer', 65000.0)\n",
            "Total number of employees: 3\n"
          ]
        }
      ]
    },
    {
      "cell_type": "markdown",
      "source": [
        "## Closing the Database Connection\n",
        "Always close the database connection when you're done to ensure data integrity.\n"
      ],
      "metadata": {
        "id": "LN2pI37T-sb-"
      }
    },
    {
      "cell_type": "code",
      "source": [
        "# Close the connection\n",
        "connection.close()\n",
        "print(\"Database connection closed.\")\n"
      ],
      "metadata": {
        "id": "qtl2iZl4-tOQ",
        "colab": {
          "base_uri": "https://localhost:8080/"
        },
        "outputId": "dd47431e-365c-412e-ae61-1234e1da1fc0"
      },
      "execution_count": null,
      "outputs": [
        {
          "output_type": "stream",
          "name": "stdout",
          "text": [
            "Database connection closed.\n"
          ]
        }
      ]
    },
    {
      "cell_type": "markdown",
      "source": [
        "# It is your turn !\n",
        "## **Lab: Transform ER Diagram seen in Exercise 2.3 into SQL Tables**\n",
        "\n",
        "### **Objective**\n",
        "The goal of this lab is to transform the given ER diagram into SQL tables, populate the tables with sample data, and write SQL queries to answer specific questions.\n",
        "\n",
        "---\n",
        "\n",
        "### **Instructions**\n",
        "\n",
        "\n",
        "1. **Create SQL Tables**  \n",
        "   - Use `CREATE TABLE` statements to define tables for each entity and relationship.  \n",
        "   - Ensure proper use of primary keys, foreign keys, and data types.\n",
        "\n",
        "2. **Insert Sample Data**  \n",
        "   - Populate each table with at least 5–10 rows of sample data.\n",
        "\n",
        "3. **Write SQL Queries**  \n",
        "   - Use SQL queries to answer the provided questions.\n",
        "\n",
        "---\n",
        "\n",
        "### **Questions**\n",
        "\n",
        "1. **List all professors and their research specialties.**  \n",
        "\n",
        "2. **Retrieve all projects managed by a specific professor.**  \n",
        "\n",
        "3. **Find the names of graduate students working on a specific project.**  \n",
        "\n",
        "4. **Find professors supervising graduate students on a specific project.**  \n",
        "\n",
        "5. **Count how many professors work in each department.**  \n",
        "\n",
        "6. **List graduate students and their advisors.**  \n",
        "\n",
        "7. **Find all projects with a budget greater than $1,000,000.**  \n",
        "\n",
        "8. **Retrieve all departments and their chairmen.**  \n",
        "\n",
        "9. **Find the total number of projects a specific professor is managing.**  \n",
        "\n",
        "10. **Find the names of graduate students and their major department.**  \n",
        "\n"
      ],
      "metadata": {
        "id": "HadH8a5T8Fip"
      }
    },
    {
      "cell_type": "code",
      "source": [
        "import sqlite3\n",
        "import pandas as pd\n",
        "import os"
      ],
      "metadata": {
        "id": "eODHO6GmkDYb"
      },
      "execution_count": null,
      "outputs": []
    },
    {
      "cell_type": "code",
      "source": [
        "connection = sqlite3.connect(\"University_Database.db\")\n",
        "cursor = connection.cursor()"
      ],
      "metadata": {
        "id": "ZftZIUBGkP9X"
      },
      "execution_count": null,
      "outputs": []
    },
    {
      "cell_type": "code",
      "source": [
        "\n",
        "\n",
        "professor_Table_Query = ''' CREATE TABLE IF NOT EXISTS Professor (\n",
        "  SSN INTEGER PRIMARY KEY ,\n",
        "  AGE INT,\n",
        "   SPECIALITY TEXT,\n",
        "   RANK TEXT) ;'''\n",
        "cursor.execute(professor_Table_Query)\n",
        "\n",
        "Departement_Table_Query = ''' CREATE TABLE IF NOT EXISTS Departement (\n",
        "  DNO INTEGER PRIMARY KEY ,\n",
        "  DNAME TEXT,\n",
        "  OFFICE TEXT,\n",
        "  Departement_Manager_SSN INTEGER,\n",
        "  FOREIGN KEY (Departement_Manager_SSN) REFERENCES Professor(SSN)\n",
        "  ) ;'''\n",
        "cursor.execute(Departement_Table_Query)\n",
        "\n",
        "\n",
        "WORK_Relation_Query = ''' CREATE TABLE IF NOT EXISTS Work_dept (\n",
        "    DNO INTEGER NOT NULL ,\n",
        "    SSN INTEGER,\n",
        "    pc_time INTEGER,\n",
        "    PRIMARY KEY (DNO,SSN),\n",
        "    FOREIGN KEY  (DNO) REFERENCES Departement(DNO),\n",
        "    FOREIGN KEY (SSN) REFERENCES Professor (SSN)\n",
        "    ) ;'''\n",
        "cursor.execute(WORK_Relation_Query)\n",
        "\n",
        "Project_Table_Query = ''' CREATE TABLE IF NOT EXISTS Project (\n",
        "  PID INTEGER PRIMARY KEY ,\n",
        "  BUDGET INT,\n",
        "  SPONSOR TEXT,\n",
        "  START_DATE TEXT,\n",
        "  END_DATE TEXT ,\n",
        "  Manager_SSN INTEGER,\n",
        "  FOREIGN KEY (Manager_SSN) REFERENCES Professor(SSN) ) ;'''\n",
        "cursor.execute(Project_Table_Query)\n",
        "\n",
        "\n",
        "Professor_Project_Relation_Query = ''' CREATE TABLE IF NOT EXISTS Professor_Project (\n",
        "    PID INTEGER  ,\n",
        "    SSN INTEGER NOT NULL,\n",
        "    PRIMARY KEY (PID,SSN),\n",
        "    FOREIGN KEY  (PID) REFERENCES Project(PID),\n",
        "    FOREIGN KEY (SSN) REFERENCES Professor (SSN)\n",
        "    ) ;'''\n",
        "cursor.execute(Professor_Project_Relation_Query)\n",
        "\n",
        "\n",
        "Graduate_Table_Query = ''' CREATE TABLE IF NOT EXISTS Graduate (\n",
        "  SSN INTEGER PRIMARY KEY ,\n",
        "  NAME TEXT,\n",
        "  AGE INT,\n",
        "  DEG_PROG TEXT,\n",
        "  SENIOR_SSN INTEGER  ,\n",
        "  Major INT ,\n",
        "  FOREIGN KEY  (SENIOR_SSN) REFERENCES Graduate(SSN),\n",
        "  FOREIGN KEY  (Major) REFERENCES Departement(DNO)\n",
        "\n",
        "\n",
        "  ) ;'''\n",
        "cursor.execute(Graduate_Table_Query)\n",
        "\n",
        "\n",
        "GRADUATE_Project_Relation_Query = ''' CREATE TABLE IF NOT EXISTS GRADUATE_Project (\n",
        "    PID INTEGER  ,\n",
        "    GRADUATE_SSN INTEGER NOT NULL ,\n",
        "    FOREIGN KEY  (PID) REFERENCES Project(PID),\n",
        "    FOREIGN KEY (GRADUATE_SSN) REFERENCES Graduate(SSN)\n",
        "    ) ;'''\n",
        "cursor.execute(GRADUATE_Project_Relation_Query)\n",
        "\n",
        "\n",
        "\n",
        "\n",
        "\n",
        "connection.commit()\n",
        "\n",
        "print(\"Successful\")"
      ],
      "metadata": {
        "id": "jD5YZedH8FUp",
        "colab": {
          "base_uri": "https://localhost:8080/"
        },
        "outputId": "c43b29cc-abaa-4eab-cba5-a8b3528dd083"
      },
      "execution_count": null,
      "outputs": [
        {
          "output_type": "stream",
          "name": "stdout",
          "text": [
            "Successful\n"
          ]
        }
      ]
    },
    {
      "cell_type": "code",
      "source": [
        "Insert_Professor = ''' INSERT INTO Professor (SSN, AGE, SPECIALITY, RANK) VALUES\n",
        "(1, 45, 'Artificial Intelligence', 'Professor'),\n",
        "(2, 50, 'Data Science', 'Professor'),\n",
        "(3, 40, 'Cybersecurity', 'Associate Professor'),\n",
        "(4, 38, 'Software Engineering', 'Assistant Professor');\n",
        "\n",
        "'''\n",
        "Insert_Departement  = '''\n",
        "INSERT INTO Departement (DNO, DNAME, OFFICE, Departement_Manager_SSN) VALUES\n",
        "(101, 'Computer Science', 'Building A - Room 101', 1),\n",
        "(102, 'Information Systems', 'Building B - Room 202', 2),\n",
        "(103, 'Cybersecurity', 'Building C - Room 303', 3);\n",
        "\n",
        "'''\n",
        "\n",
        "Insert_Work_dept  = '''\n",
        "INSERT INTO Work_dept (DNO, SSN, pc_time) VALUES\n",
        "(101, 1, 30),\n",
        "(102, 2, 25),\n",
        "(103, 3, 40),\n",
        "(101, 4, 15);\n",
        "'''\n",
        "\n",
        "Insert_Departement  = '''\n",
        "INSERT INTO Project (PID, BUDGET, SPONSOR, START_DATE, END_DATE, Manager_SSN) VALUES\n",
        "(201, 50000, 'TechCorp', '2024-01-01', '2024-06-30', 1),\n",
        "(202, 75000, 'DataInc', '2024-02-01', '2024-08-31', 2),\n",
        "(203, 100000, 'CyberSecurity Org', '2024-03-01', '2024-12-31', 3);\n",
        "\n",
        "'''\n",
        "\n",
        "Insert_Professor_Project   = '''\n",
        "INSERT INTO Professor_Project (PID, SSN) VALUES\n",
        "(201, 1),\n",
        "(202, 2),\n",
        "(203, 3),\n",
        "(201, 4);\n",
        "\n",
        "\n",
        "'''\n",
        "\n",
        "\n",
        "Insert_Graduate  = '''\n",
        "INSERT INTO Graduate (SSN, NAME, AGE, DEG_PROG, SENIOR_SSN, Major) VALUES\n",
        "(1001, 'Alice', 22, 'Computer Science', NULL, 101),\n",
        "(1002, 'Bob', 23, 'Data Science', 1001, 102),\n",
        "(1003, 'Charlie', 21, 'Cybersecurity', NULL, 103),\n",
        "(1004, 'Diana', 22, 'Software Engineering', 1001, 101);\n",
        "\n",
        "'''\n",
        "\n",
        "Insert_GRADUATE_Project  = '''\n",
        "INSERT INTO GRADUATE_Project (PID, GRADUATE_SSN) VALUES\n",
        "(201, 1001),\n",
        "(202, 1002),\n",
        "(203, 1003),\n",
        "(201, 1004);\n",
        "\n",
        "\n",
        "'''\n",
        "\n",
        "\n",
        "\n"
      ],
      "metadata": {
        "id": "8p6Gm8ZWzL25"
      },
      "execution_count": null,
      "outputs": []
    }
  ]
}